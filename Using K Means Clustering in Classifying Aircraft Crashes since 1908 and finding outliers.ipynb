{
  "metadata": {
    "kernelspec": {
      "display_name": "Python 3",
      "language": "python",
      "name": "python3"
    },
    "language_info": {
      "codemirror_mode": {
        "name": "ipython",
        "version": 3
      },
      "file_extension": ".py",
      "mimetype": "text/x-python",
      "name": "python",
      "nbconvert_exporter": "python",
      "pygments_lexer": "ipython3",
      "version": "3.6.0"
    }
  },
  "nbformat": 4,
  "nbformat_minor": 0,
  "cells": [
    {
      "cell_type": "markdown",
      "source": "Cleaning Data and Finding Patterns in Aircraft Crashes using K Means Algorithm",
      "metadata": {}
    },
    {
      "cell_type": "code",
      "source": "# This Python 3 environment comes with many helpful analytics libraries installed\n# It is defined by the kaggle/python docker image: https://github.com/kaggle/docker-python\n# For example, here's several helpful packages to load in \n\nimport numpy as np # linear algebra\nimport pandas as pd # data processing, CSV file I/O (e.g. pd.read_csv)\n\n# Input data files are available in the \"../input/\" directory.\n# For example, running this (by clicking run or pressing Shift+Enter) will list the files in the input directory\n\nfrom subprocess import check_output\nprint(check_output([\"ls\", \"../input\"]).decode(\"utf8\"))\n\n# Any results you write to the current directory are saved as output.",
      "execution_count": 1,
      "outputs": [
        {
          "name": "stdout",
          "output_type": "stream",
          "text": "Airplane_Crashes_and_Fatalities_Since_1908.csv\n\n"
        }
      ],
      "metadata": {}
    },
    {
      "cell_type": "code",
      "source": "df = pd.read_csv('../input/Airplane_Crashes_and_Fatalities_Since_1908.csv')",
      "execution_count": 2,
      "outputs": [],
      "metadata": {}
    },
    {
      "cell_type": "markdown",
      "source": "Importing the Data into a Pandas DataFrame for further analysis",
      "metadata": {}
    },
    {
      "cell_type": "code",
      "source": "df.info()",
      "execution_count": 3,
      "outputs": [
        {
          "name": "stdout",
          "output_type": "stream",
          "text": "<class 'pandas.core.frame.DataFrame'>\nRangeIndex: 5268 entries, 0 to 5267\nData columns (total 13 columns):\nDate            5268 non-null object\nTime            3049 non-null object\nLocation        5248 non-null object\nOperator        5250 non-null object\nFlight #        1069 non-null object\nRoute           3562 non-null object\nType            5241 non-null object\nRegistration    4933 non-null object\ncn/In           4040 non-null object\nAboard          5246 non-null float64\nFatalities      5256 non-null float64\nGround          5246 non-null float64\nSummary         4878 non-null object\ndtypes: float64(3), object(10)\nmemory usage: 535.1+ KB\n"
        }
      ],
      "metadata": {}
    },
    {
      "cell_type": "markdown",
      "source": "Getting an Idea about the type of the Data and the characteristics of the Dataset.\n\nWe can see that Flight#, Time, Route, cn/In have a lot of null values which will affect our Data , so Hence we clean it by dropping the respective columns.",
      "metadata": {}
    },
    {
      "cell_type": "code",
      "source": "df = df.drop('Flight #',axis=1)\ndf = df.drop('Time',axis=1)\ndf = df.drop('Route',axis=1)\ndf = df.drop('cn/In',axis=1)\ndf = df.drop('Summary',axis=1)\ndf.notnull()\n\n\ndf.info()",
      "execution_count": 4,
      "outputs": [
        {
          "name": "stdout",
          "output_type": "stream",
          "text": "<class 'pandas.core.frame.DataFrame'>\nRangeIndex: 5268 entries, 0 to 5267\nData columns (total 8 columns):\nDate            5268 non-null object\nLocation        5248 non-null object\nOperator        5250 non-null object\nType            5241 non-null object\nRegistration    4933 non-null object\nAboard          5246 non-null float64\nFatalities      5256 non-null float64\nGround          5246 non-null float64\ndtypes: float64(3), object(5)\nmemory usage: 329.3+ KB\n"
        }
      ],
      "metadata": {}
    },
    {
      "cell_type": "markdown",
      "source": "Dropped the Null Values and the many columns.",
      "metadata": {}
    },
    {
      "cell_type": "code",
      "source": "df.head()",
      "execution_count": 5,
      "outputs": [
        {
          "data": {
            "text/html": "<div>\n<table border=\"1\" class=\"dataframe\">\n  <thead>\n    <tr style=\"text-align: right;\">\n      <th></th>\n      <th>Date</th>\n      <th>Location</th>\n      <th>Operator</th>\n      <th>Type</th>\n      <th>Registration</th>\n      <th>Aboard</th>\n      <th>Fatalities</th>\n      <th>Ground</th>\n    </tr>\n  </thead>\n  <tbody>\n    <tr>\n      <th>0</th>\n      <td>09/17/1908</td>\n      <td>Fort Myer, Virginia</td>\n      <td>Military - U.S. Army</td>\n      <td>Wright Flyer III</td>\n      <td>NaN</td>\n      <td>2.0</td>\n      <td>1.0</td>\n      <td>0.0</td>\n    </tr>\n    <tr>\n      <th>1</th>\n      <td>07/12/1912</td>\n      <td>AtlantiCity, New Jersey</td>\n      <td>Military - U.S. Navy</td>\n      <td>Dirigible</td>\n      <td>NaN</td>\n      <td>5.0</td>\n      <td>5.0</td>\n      <td>0.0</td>\n    </tr>\n    <tr>\n      <th>2</th>\n      <td>08/06/1913</td>\n      <td>Victoria, British Columbia, Canada</td>\n      <td>Private</td>\n      <td>Curtiss seaplane</td>\n      <td>NaN</td>\n      <td>1.0</td>\n      <td>1.0</td>\n      <td>0.0</td>\n    </tr>\n    <tr>\n      <th>3</th>\n      <td>09/09/1913</td>\n      <td>Over the North Sea</td>\n      <td>Military - German Navy</td>\n      <td>Zeppelin L-1 (airship)</td>\n      <td>NaN</td>\n      <td>20.0</td>\n      <td>14.0</td>\n      <td>0.0</td>\n    </tr>\n    <tr>\n      <th>4</th>\n      <td>10/17/1913</td>\n      <td>Near Johannisthal, Germany</td>\n      <td>Military - German Navy</td>\n      <td>Zeppelin L-2 (airship)</td>\n      <td>NaN</td>\n      <td>30.0</td>\n      <td>30.0</td>\n      <td>0.0</td>\n    </tr>\n  </tbody>\n</table>\n</div>",
            "text/plain": "         Date                            Location                Operator  \\\n0  09/17/1908                 Fort Myer, Virginia    Military - U.S. Army   \n1  07/12/1912             AtlantiCity, New Jersey    Military - U.S. Navy   \n2  08/06/1913  Victoria, British Columbia, Canada                 Private   \n3  09/09/1913                  Over the North Sea  Military - German Navy   \n4  10/17/1913          Near Johannisthal, Germany  Military - German Navy   \n\n                     Type Registration  Aboard  Fatalities  Ground  \n0        Wright Flyer III          NaN     2.0         1.0     0.0  \n1               Dirigible          NaN     5.0         5.0     0.0  \n2        Curtiss seaplane          NaN     1.0         1.0     0.0  \n3  Zeppelin L-1 (airship)          NaN    20.0        14.0     0.0  \n4  Zeppelin L-2 (airship)          NaN    30.0        30.0     0.0  "
          },
          "execution_count": 5,
          "metadata": {},
          "output_type": "execute_result"
        }
      ],
      "metadata": {}
    },
    {
      "cell_type": "markdown",
      "source": "Having a look at the data",
      "metadata": {}
    },
    {
      "cell_type": "code",
      "source": "X = df.drop('Location',axis=1)\nX = X.drop('Type',axis=1)\nX = X.drop('Date',axis=1)\nX = X.drop('Operator',axis=1)\nX = X.drop('Ground',axis=1)\nX = X.drop('Registration',axis=1)\nX = X.dropna()\nxc=X\nX = X.values\ny = (df['Type'].values)\n\n\n#Xamples=[]\n#Xamples[:,0] = X\n#Xamples[:,1] = Y\n\nprint(X)\n    ",
      "execution_count": 6,
      "outputs": [
        {
          "name": "stdout",
          "output_type": "stream",
          "text": "[[   2.    1.]\n [   5.    5.]\n [   1.    1.]\n ..., \n [ 228.  228.]\n [   1.    1.]\n [  13.   13.]]\n"
        }
      ],
      "metadata": {}
    },
    {
      "cell_type": "markdown",
      "source": "We are Preparing the Data to be fed for K-Means Clustering Algorithm, as it supports only numeric values. We can see that only Ground, Aboard and Fatalities have a numeric value from the description in the above cell.",
      "metadata": {}
    },
    {
      "cell_type": "code",
      "source": "samples = X.astype(int)\n\nprint(samples)\n\nfrom sklearn.cluster import KMeans\nfrom sklearn.preprocessing import normalize\nfrom sklearn.preprocessing import StandardScaler\nfrom sklearn.pipeline import make_pipeline \n\nscaler = StandardScaler() \nkmeans = KMeans(n_clusters=3)\n\nmodel = make_pipeline(scaler,kmeans ) \n#nm = normalize(1)\n\n#samples = nm(samples)\n\n\nmodel.fit(samples)\nlabels = model.predict(samples)\n\nimport matplotlib.pyplot as plt \n\nxs = samples[:,0]\nys = samples[:,1]\n\nplt.scatter(xs, ys, c=labels)\n\ncentroids = kmeans.cluster_centers_\n\ncentroids_x = centroids[:,0]\ncentroids_y = centroids[:,1]\n\nplt.scatter(centroids_x,centroids_y,color='Red',marker='D',s=50)\n\nprint(kmeans.inertia_)\n\n\nplt.show()\n        ",
      "execution_count": 7,
      "outputs": [
        {
          "name": "stdout",
          "output_type": "stream",
          "text": "[[  2   1]\n [  5   5]\n [  1   1]\n ..., \n [228 228]\n [  1   1]\n [ 13  13]]\n"
        },
        {
          "name": "stderr",
          "output_type": "stream",
          "text": "/opt/conda/lib/python3.6/site-packages/sklearn/utils/validation.py:427: DataConversionWarning: Data with input dtype int64 was converted to float64 by StandardScaler.\n  warnings.warn(msg, DataConversionWarning)\n"
        },
        {
          "name": "stdout",
          "output_type": "stream",
          "text": "3258.96295505\n"
        },
        {
          "data": {
            "image/png": "[encoded data removed]",
            "text/plain": "<matplotlib.figure.Figure at 0x7f5747813e80>"
          },
          "metadata": {},
          "output_type": "display_data"
        }
      ],
      "metadata": {}
    },
    {
      "cell_type": "markdown",
      "source": "Performing K-Means Clustering over the Dataset. We have chosen a cluster size of 3. \n\nThe Data was first Standardized and then fed into the K-Means Clustering Algorithm via a Pipeline.\n\nThe Pipeline ensures that automatic flow of data between diffrent steps.",
      "metadata": {}
    },
    {
      "cell_type": "code",
      "source": "centroids = kmeans.cluster_centers_\n\ncentroids_x = centroids[:,0]\ncentroids_y = centroids[:,1]\n\nplt.scatter(centroids_x,centroids_y,marker='D',s=50)\nplt.show()",
      "execution_count": 8,
      "outputs": [
        {
          "data": {
            "image/png": "[encoded data removed]",
            "text/plain": "<matplotlib.figure.Figure at 0x7f5753a04da0>"
          },
          "metadata": {},
          "output_type": "display_data"
        }
      ],
      "metadata": {}
    },
    {
      "cell_type": "markdown",
      "source": "Plotting the Cluster Centers",
      "metadata": {}
    },
    {
      "cell_type": "code",
      "source": "print(kmeans.inertia_)",
      "execution_count": 9,
      "outputs": [
        {
          "name": "stdout",
          "output_type": "stream",
          "text": "3258.96295505\n"
        }
      ],
      "metadata": {}
    },
    {
      "cell_type": "markdown",
      "source": "Getting the Inertia Value. The lower the better. \n\nInertia gives us the sum of the distance of each value from the center of it's cluster.\n\nWe usually plot the Inertia value for different number of clusters and ideally select the one that lies on the elbow.",
      "metadata": {}
    },
    {
      "cell_type": "code",
      "source": "fig,ax = plt.subplots()\nax.bar( xs,ys, width=6, color='r')\n\nplt.show()",
      "execution_count": 10,
      "outputs": [
        {
          "data": {
            "image/png": "[encoded data removed]",
            "text/plain": "<matplotlib.figure.Figure at 0x7f5743155fd0>"
          },
          "metadata": {},
          "output_type": "display_data"
        }
      ],
      "metadata": {}
    },
    {
      "cell_type": "markdown",
      "source": "We can see very well that there are many outliers in the Data. \n\nThese are the miracle cases in which some of the passenger managed to survive the crash.\n\nThese are the same crashes which lie in cluster number 3 in the K-Means Cluster indicating a outlier trend.",
      "metadata": {}
    }
  ]
}